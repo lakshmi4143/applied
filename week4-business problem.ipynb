{
 "cells": [
  {
   "cell_type": "markdown",
   "metadata": {},
   "source": [
    "## INTRODUCTION"
   ]
  },
  {
   "cell_type": "markdown",
   "metadata": {},
   "source": [
    "Getting through lot many options while searching for houses has became very important these days, as people looking for lot many comforts/facilities like nearby Grocery stores, hospitals,School,Super market,medical shops etc. Going through each and every place and searching houses with all these facilities is not possible and take too much of time.\n",
    "This project will help in such cases like prediction of houses with nearby facilities around their neighborhood in  in Central Toranto.This project will people to get awareness of the area and neighborhood before moving to a new city, state, country or place for their work or to start a new fresh life.\n",
    "This Project include analysis of features for a people migrating to North york to search a best neighborhood. The features include median housing price and better school according to ratings, crime rates of that particular area, road connectivity, weather conditions, medical facailities for emergency, water resources both fresh and waste water etc."
   ]
  },
  {
   "cell_type": "markdown",
   "metadata": {},
   "source": [
    "## problem/questions to be solved/answered"
   ]
  },
  {
   "cell_type": "markdown",
   "metadata": {},
   "source": [
    "1. sorting the list of houses with nearby better facilities \n",
    "2. finding the best house in central toronto neighbourhoods"
   ]
  },
  {
   "cell_type": "markdown",
   "metadata": {},
   "source": [
    "### About the location(central toronto)"
   ]
  },
  {
   "cell_type": "markdown",
   "metadata": {},
   "source": [
    "Toronto is ‘Silicon Valley North’, the world’s emerging tech superpower with the fastest growing tech market and fourth largest tech talent pool in North America. Multinationals are converging in the downtown core, where work/life amenities inspire innovation. Here in the hub of interactivity are the high-octane residences of Central, the centre of future living."
   ]
  },
  {
   "cell_type": "markdown",
   "metadata": {},
   "source": [
    "This project will analyse 9 neighbourhoods of northyork for house prediction for the people who are moving to Northyork for better living."
   ]
  },
  {
   "cell_type": "code",
   "execution_count": null,
   "metadata": {},
   "outputs": [],
   "source": []
  }
 ],
 "metadata": {
  "kernelspec": {
   "display_name": "Python 3",
   "language": "python",
   "name": "python3"
  },
  "language_info": {
   "codemirror_mode": {
    "name": "ipython",
    "version": 3
   },
   "file_extension": ".py",
   "mimetype": "text/x-python",
   "name": "python",
   "nbconvert_exporter": "python",
   "pygments_lexer": "ipython3",
   "version": "3.7.4"
  }
 },
 "nbformat": 4,
 "nbformat_minor": 2
}
